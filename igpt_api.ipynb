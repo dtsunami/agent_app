{
 "cells": [
  {
   "cell_type": "code",
   "execution_count": 8,
   "id": "70e9c11a-6400-428e-b6bb-ef51a1af1c11",
   "metadata": {
    "execution": {
     "iopub.execute_input": "2024-06-23T16:28:49.656361Z",
     "iopub.status.busy": "2024-06-23T16:28:49.656198Z",
     "iopub.status.idle": "2024-06-23T16:28:50.028257Z",
     "shell.execute_reply": "2024-06-23T16:28:50.027722Z",
     "shell.execute_reply.started": "2024-06-23T16:28:49.656347Z"
    }
   },
   "outputs": [],
   "source": [
    "from dotenv import load_dotenv\n",
    "load_dotenv() \n",
    "\n",
    "import os\n",
    "import json\n",
    "import requests\n"
   ]
  },
  {
   "cell_type": "code",
   "execution_count": 2,
   "id": "4c018d62",
   "metadata": {},
   "outputs": [],
   "source": [
    "IGPT_KEY = os.environ['IGPT_KEY']\n",
    "IGPT_SECRET = os.environ['IGPT_SECRET']"
   ]
  },
  {
   "cell_type": "code",
   "execution_count": 40,
   "id": "69390ee7-e43f-4327-ad5c-a42503681b0f",
   "metadata": {},
   "outputs": [
    {
     "data": {
      "text/plain": [
       "<Response [200]>"
      ]
     },
     "execution_count": 40,
     "metadata": {},
     "output_type": "execute_result"
    }
   ],
   "source": [
    "\n",
    "uri = \"https://apis-internal.intel.com/v1/auth/token\"\n",
    "headers = {\"Content-Type\": \"application/x-www-form-urlencoded\"}\n",
    "data = {'grant_type': 'client_credentials', 'client_id': IGPT_KEY, 'client_secret': IGPT_SECRET}\n",
    "response = requests.post(uri, headers=headers, data=data)\n",
    "response"
   ]
  },
  {
   "cell_type": "code",
   "execution_count": null,
   "id": "31f3154a",
   "metadata": {},
   "outputs": [],
   "source": []
  },
  {
   "cell_type": "code",
   "execution_count": 23,
   "id": "505de233",
   "metadata": {},
   "outputs": [],
   "source": [
    "token = json.loads(response.content)['access_token']"
   ]
  },
  {
   "cell_type": "code",
   "execution_count": 24,
   "id": "406302e3",
   "metadata": {},
   "outputs": [],
   "source": [
    "uri = \"https://apis-internal.intel.com/generativeaiinference/v1\"\n",
    "headers = {\"Authorization\": f\"Bearer {token}\",\n",
    "           \"Content-Type\": \"application/json\"} "
   ]
  },
  {
   "cell_type": "code",
   "execution_count": 31,
   "id": "9db88e57",
   "metadata": {},
   "outputs": [],
   "source": [
    "prompt = {\n",
    "  \"correlationId\": \"debug_igpt_api_integration\",\n",
    "  \"options\": {\n",
    "    \"temperature\": 0.95,\n",
    "    \"top_P\": 0.85,\n",
    "    \"frequency_Penalty\": 0,\n",
    "    \"presence_Penalty\": 0,\n",
    "    \"max_Tokens\": 4096,\n",
    "    \"model\": \"gpt-4-turbo\",\n",
    "  },\n",
    "  \"conversation\": [\n",
    "    {\n",
    "      \"role\": \"system\",\n",
    "      \"content\": \"Summarize everything to as few words as possible.\"\n",
    "    },\n",
    "      {\n",
    "      \"role\": \"user\",\n",
    "      \"content\": \"Tell me a story about Little Red Riding Hood\"\n",
    "    }\n",
    "  ]\n",
    "}"
   ]
  },
  {
   "cell_type": "code",
   "execution_count": 34,
   "id": "ea08aa28",
   "metadata": {},
   "outputs": [
    {
     "data": {
      "text/plain": [
       "<Response [200]>"
      ]
     },
     "execution_count": 34,
     "metadata": {},
     "output_type": "execute_result"
    }
   ],
   "source": [
    "response = requests.post(uri, headers=headers, data=json.dumps(prompt))\n",
    "response"
   ]
  },
  {
   "cell_type": "code",
   "execution_count": 39,
   "id": "382d465d",
   "metadata": {},
   "outputs": [
    {
     "name": "stdout",
     "output_type": "stream",
     "text": [
      "{'conversation': [{'role': 'system', 'content': 'Summarize everything to as few words as possible.'}, {'role': 'user', 'content': 'Tell me a story about Little Red Riding Hood'}, {'role': 'assistant', 'content': 'Girl visits grandma, meets wolf, deception, rescue.'}], 'chatId': '0', 'usage': {'completionTokens': 11, 'promptTokens': 31, 'totalTokens': 42, 'model': 'gpt-4-turbo'}, 'currentResponse': 'Girl visits grandma, meets wolf, deception, rescue.', 'correlationId': 'debug_igpt_api_integration'}\n"
     ]
    }
   ],
   "source": [
    "print(json.loads(response.content))"
   ]
  },
  {
   "cell_type": "code",
   "execution_count": 1,
   "id": "f95d7ec3",
   "metadata": {},
   "outputs": [
    {
     "name": "stderr",
     "output_type": "stream",
     "text": [
      "/nfs/site/disks/xpg_sprsp_0352/agents/agent_app/.venv/lib/python3.11/site-packages/tqdm/auto.py:21: TqdmWarning: IProgress not found. Please update jupyter and ipywidgets. See https://ipywidgets.readthedocs.io/en/stable/user_install.html\n",
      "  from .autonotebook import tqdm as notebook_tqdm\n"
     ]
    }
   ],
   "source": [
    "from agents import igpt_client"
   ]
  },
  {
   "cell_type": "code",
   "execution_count": 8,
   "metadata": {},
   "outputs": [
    {
     "name": "stdout",
     "output_type": "stream",
     "text": [
      "\n"
     ]
    }
   ],
   "source": [
    "import os\n",
    "print(os.environ['no_proxy'])"
   ]
  },
  {
   "cell_type": "code",
   "execution_count": 2,
   "id": "76e56600",
   "metadata": {},
   "outputs": [],
   "source": [
    "conversation = [\n",
    "    {\n",
    "    \"role\": \"system\",\n",
    "    \"content\": \"Summarize everything to as few words as possible.\"\n",
    "    },\n",
    "    {\n",
    "    \"role\": \"user\",\n",
    "    \"content\": \"Tell me a story about Little Red Riding Hood\"\n",
    "    }\n",
    "]"
   ]
  },
  {
   "cell_type": "code",
   "execution_count": 3,
   "id": "ae7fbb41",
   "metadata": {},
   "outputs": [
    {
     "data": {
      "text/plain": [
       "{'conversation': [{'role': 'system',\n",
       "   'content': 'Summarize everything to as few words as possible.'},\n",
       "  {'role': 'user', 'content': 'Tell me a story about Little Red Riding Hood'},\n",
       "  {'role': 'assistant',\n",
       "   'content': 'Girl visits grandma, meets wolf, wolf tricks and eats them, hunter saves them.'}],\n",
       " 'chatId': '0',\n",
       " 'usage': {'completionTokens': 17,\n",
       "  'promptTokens': 31,\n",
       "  'totalTokens': 48,\n",
       "  'model': 'gpt-4-turbo'},\n",
       " 'currentResponse': 'Girl visits grandma, meets wolf, wolf tricks and eats them, hunter saves them.',\n",
       " 'correlationId': 'iGPT design agents'}"
      ]
     },
     "execution_count": 3,
     "metadata": {},
     "output_type": "execute_result"
    }
   ],
   "source": [
    "igpt_client.generate(conversation=conversation)"
   ]
  },
  {
   "cell_type": "code",
   "execution_count": null,
   "id": "42080274",
   "metadata": {},
   "outputs": [],
   "source": []
  }
 ],
 "metadata": {
  "kernelspec": {
   "display_name": "Python 3 (ipykernel)",
   "language": "python",
   "name": "python3"
  },
  "language_info": {
   "codemirror_mode": {
    "name": "ipython",
    "version": 3
   },
   "file_extension": ".py",
   "mimetype": "text/x-python",
   "name": "python",
   "nbconvert_exporter": "python",
   "pygments_lexer": "ipython3",
   "version": "3.11.2"
  }
 },
 "nbformat": 4,
 "nbformat_minor": 5
}
