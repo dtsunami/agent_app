{
 "cells": [
  {
   "cell_type": "code",
   "execution_count": 3,
   "id": "b09a2d95-9397-4364-a65d-827cb79feafb",
   "metadata": {
    "execution": {
     "iopub.execute_input": "2024-06-14T19:46:55.496833Z",
     "iopub.status.busy": "2024-06-14T19:46:55.496367Z",
     "iopub.status.idle": "2024-06-14T19:46:58.499134Z",
     "shell.execute_reply": "2024-06-14T19:46:58.498622Z",
     "shell.execute_reply.started": "2024-06-14T19:46:55.496817Z"
    }
   },
   "outputs": [],
   "source": [
    "from dotenv import load_dotenv\n",
    "\n",
    "load_dotenv()  # take environment variables from .env.\n",
    "\n",
    "import os\n",
    "from vectordb import store_folder_as_table, get_query_engine"
   ]
  },
  {
   "cell_type": "code",
   "execution_count": 5,
   "id": "e4c52ca9",
   "metadata": {},
   "outputs": [
    {
     "data": {
      "text/plain": [
       "'/nfs/site/disks/xpg_sprsp_0352/agents/agent_app'"
      ]
     },
     "execution_count": 5,
     "metadata": {},
     "output_type": "execute_result"
    }
   ],
   "source": [
    "os.getcwd()"
   ]
  },
  {
   "cell_type": "code",
   "execution_count": 2,
   "id": "e079a074-3530-4238-aa3b-ae3e8beb738d",
   "metadata": {
    "execution": {
     "iopub.execute_input": "2024-06-14T19:47:39.841499Z",
     "iopub.status.busy": "2024-06-14T19:47:39.841260Z",
     "iopub.status.idle": "2024-06-14T19:50:02.689347Z",
     "shell.execute_reply": "2024-06-14T19:50:02.688736Z",
     "shell.execute_reply.started": "2024-06-14T19:47:39.841485Z"
    }
   },
   "outputs": [
    {
     "name": "stderr",
     "output_type": "stream",
     "text": [
      "/nfs/site/disks/xpg_sprsp_0352/agents/agent_app/.venv/lib/python3.11/site-packages/tqdm/auto.py:21: TqdmWarning: IProgress not found. Please update jupyter and ipywidgets. See https://ipywidgets.readthedocs.io/en/stable/user_install.html\n",
      "  from .autonotebook import tqdm as notebook_tqdm\n",
      "Parsing nodes: 100%|█████████████████████████████████████████████████████████████████████████████████████████████████████████████████████████████████████████████████████████████████████████████████████████████████████████████████████████████████████████████████| 5329/5329 [00:04<00:00, 1185.84it/s]\n",
      "Generating embeddings: 100%|██████████████████████████████████████████████████████████████████████████████████████████████████████████████████████████████████████████████████████████████████████████████████████████████████████████████████████████████████████████| 2048/2048 [00:15<00:00, 129.10it/s]\n",
      "Generating embeddings: 100%|██████████████████████████████████████████████████████████████████████████████████████████████████████████████████████████████████████████████████████████████████████████████████████████████████████████████████████████████████████████| 2048/2048 [00:15<00:00, 128.13it/s]\n",
      "Generating embeddings: 100%|██████████████████████████████████████████████████████████████████████████████████████████████████████████████████████████████████████████████████████████████████████████████████████████████████████████████████████████████████████████| 1711/1711 [00:13<00:00, 129.54it/s]\n"
     ]
    }
   ],
   "source": [
    "query_engine = store_folder_as_table(f'{os.getcwd()}/../../bin/yield/ye_doc/', 'ye_docs')"
   ]
  },
  {
   "cell_type": "code",
   "execution_count": null,
   "id": "71e5b455-9545-4e0c-93a6-f76be1903e3d",
   "metadata": {},
   "outputs": [],
   "source": [
    "# query_engine = get_query_engine('ye_docs')"
   ]
  },
  {
   "cell_type": "code",
   "execution_count": 3,
   "id": "08ca1d02-3c3b-4019-ad29-9777c12eba81",
   "metadata": {
    "execution": {
     "iopub.execute_input": "2024-06-14T19:50:18.203278Z",
     "iopub.status.busy": "2024-06-14T19:50:18.203066Z",
     "iopub.status.idle": "2024-06-14T19:50:19.862850Z",
     "shell.execute_reply": "2024-06-14T19:50:19.862456Z",
     "shell.execute_reply.started": "2024-06-14T19:50:18.203263Z"
    }
   },
   "outputs": [],
   "source": [
    "response = query_engine.query(\"How do I import layout into yield explorer?\")"
   ]
  },
  {
   "cell_type": "code",
   "execution_count": 7,
   "id": "d2b05f32-b7c9-41f8-a42b-c2ea19694b2a",
   "metadata": {
    "execution": {
     "iopub.execute_input": "2024-06-14T19:51:15.961340Z",
     "iopub.status.busy": "2024-06-14T19:51:15.961171Z",
     "iopub.status.idle": "2024-06-14T19:51:15.963793Z",
     "shell.execute_reply": "2024-06-14T19:51:15.963444Z",
     "shell.execute_reply.started": "2024-06-14T19:51:15.961326Z"
    }
   },
   "outputs": [
    {
     "name": "stdout",
     "output_type": "stream",
     "text": [
      "To import a layout into Yield Explorer, you can use the following command:\n",
      "- sym open lay -and- load -file <path_to_layout_file> -cell <cell_name>\n"
     ]
    }
   ],
   "source": [
    "print(response)"
   ]
  },
  {
   "cell_type": "code",
   "execution_count": 10,
   "id": "d69ed216-82a2-450e-9526-3a210e858778",
   "metadata": {
    "execution": {
     "iopub.execute_input": "2024-06-14T19:52:48.928298Z",
     "iopub.status.busy": "2024-06-14T19:52:48.928134Z",
     "iopub.status.idle": "2024-06-14T19:52:50.013039Z",
     "shell.execute_reply": "2024-06-14T19:52:50.012512Z",
     "shell.execute_reply.started": "2024-06-14T19:52:48.928285Z"
    }
   },
   "outputs": [
    {
     "name": "stdout",
     "output_type": "stream",
     "text": [
      "Yield Explorer supports ICWBEV+ Layout module directly, as well as a SYM-specific layout module which is a thin wrapper around the original Layout module.\n"
     ]
    }
   ],
   "source": [
    "response = query_engine.query(\"What types of layout file formats does yield explorer support?\")\n",
    "print(response)"
   ]
  },
  {
   "cell_type": "code",
   "execution_count": 11,
   "id": "f6c3e12e-046b-4a99-9446-3eebfa112cb1",
   "metadata": {
    "execution": {
     "iopub.execute_input": "2024-06-14T19:58:37.365866Z",
     "iopub.status.busy": "2024-06-14T19:58:37.365703Z",
     "iopub.status.idle": "2024-06-14T19:58:38.443858Z",
     "shell.execute_reply": "2024-06-14T19:58:38.443359Z",
     "shell.execute_reply.started": "2024-06-14T19:58:37.365853Z"
    }
   },
   "outputs": [
    {
     "name": "stdout",
     "output_type": "stream",
     "text": [
      "Yield Explorer does not require normalization for specific formats like STDF or KLARF, which implies that it does not support oasis files.\n"
     ]
    }
   ],
   "source": [
    "response = query_engine.query(\"Does Yield Explorer support oasis files?\")\n",
    "print(response)"
   ]
  },
  {
   "cell_type": "code",
   "execution_count": null,
   "id": "9d42d15f-e4f9-46de-bbd9-5842cd232cdf",
   "metadata": {},
   "outputs": [],
   "source": []
  }
 ],
 "metadata": {
  "kernelspec": {
   "display_name": "Python 3 (ipykernel)",
   "language": "python",
   "name": "python3"
  },
  "language_info": {
   "codemirror_mode": {
    "name": "ipython",
    "version": 3
   },
   "file_extension": ".py",
   "mimetype": "text/x-python",
   "name": "python",
   "nbconvert_exporter": "python",
   "pygments_lexer": "ipython3",
   "version": "3.11.2"
  }
 },
 "nbformat": 4,
 "nbformat_minor": 5
}
