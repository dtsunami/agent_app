{
 "cells": [
  {
   "cell_type": "code",
   "execution_count": 1,
   "id": "75830ccd",
   "metadata": {},
   "outputs": [],
   "source": [
    "from dotenv import load_dotenv\n",
    "load_dotenv() \n",
    "\n",
    "import os\n",
    "import json\n",
    "\n",
    "from crawl4ai import WebCrawler\n"
   ]
  },
  {
   "cell_type": "code",
   "execution_count": 2,
   "id": "c72a2d3d",
   "metadata": {},
   "outputs": [
    {
     "name": "stdout",
     "output_type": "stream",
     "text": [
      "[LOG] 🚀 Initializing LocalSeleniumCrawlerStrategy\n"
     ]
    },
    {
     "name": "stderr",
     "output_type": "stream",
     "text": [
      "/bin/sh: google-chrome: command not found\n",
      "/bin/sh: google-chrome-stable: command not found\n",
      "/bin/sh: google-chrome-beta: command not found\n",
      "/bin/sh: google-chrome-dev: command not found\n",
      "/bin/sh: google-chrome: command not found\n",
      "/bin/sh: google-chrome-stable: command not found\n",
      "/bin/sh: google-chrome-beta: command not found\n",
      "/bin/sh: google-chrome-dev: command not found\n"
     ]
    },
    {
     "ename": "AttributeError",
     "evalue": "'NoneType' object has no attribute 'split'",
     "output_type": "error",
     "traceback": [
      "\u001b[0;31m---------------------------------------------------------------------------\u001b[0m",
      "\u001b[0;31mAttributeError\u001b[0m                            Traceback (most recent call last)",
      "\u001b[1;32m/nfs/site/disks/xpg_sprsp_0352/agents/agent_app/crawl4a.ipynb Cell 2\u001b[0m line \u001b[0;36m2\n\u001b[1;32m      <a href='vscode-notebook-cell:/nfs/site/disks/xpg_sprsp_0352/agents/agent_app/crawl4a.ipynb#X21sZmlsZQ%3D%3D?line=0'>1</a>\u001b[0m \u001b[39m# Create an instance of WebCrawler\u001b[39;00m\n\u001b[0;32m----> <a href='vscode-notebook-cell:/nfs/site/disks/xpg_sprsp_0352/agents/agent_app/crawl4a.ipynb#X21sZmlsZQ%3D%3D?line=1'>2</a>\u001b[0m crawler \u001b[39m=\u001b[39m WebCrawler()\n\u001b[1;32m      <a href='vscode-notebook-cell:/nfs/site/disks/xpg_sprsp_0352/agents/agent_app/crawl4a.ipynb#X21sZmlsZQ%3D%3D?line=3'>4</a>\u001b[0m \u001b[39m# Warm up the crawler (load necessary models)\u001b[39;00m\n\u001b[1;32m      <a href='vscode-notebook-cell:/nfs/site/disks/xpg_sprsp_0352/agents/agent_app/crawl4a.ipynb#X21sZmlsZQ%3D%3D?line=4'>5</a>\u001b[0m crawler\u001b[39m.\u001b[39mwarmup()\n",
      "File \u001b[0;32m/nfs/site/disks/xpg_sprsp_0352/agents/agent_app/.venv/lib/python3.11/site-packages/crawl4ai/web_crawler.py:25\u001b[0m, in \u001b[0;36mWebCrawler.__init__\u001b[0;34m(self, crawler_strategy, always_by_pass_cache, verbose)\u001b[0m\n\u001b[1;32m     17\u001b[0m \u001b[39mdef\u001b[39;00m \u001b[39m__init__\u001b[39m(\n\u001b[1;32m     18\u001b[0m     \u001b[39mself\u001b[39m,\n\u001b[1;32m     19\u001b[0m     \u001b[39m# db_path: str = None,\u001b[39;00m\n\u001b[0;32m   (...)\u001b[0m\n\u001b[1;32m     23\u001b[0m ):\n\u001b[1;32m     24\u001b[0m     \u001b[39m# self.db_path = db_path\u001b[39;00m\n\u001b[0;32m---> 25\u001b[0m     \u001b[39mself\u001b[39m\u001b[39m.\u001b[39mcrawler_strategy \u001b[39m=\u001b[39m crawler_strategy \u001b[39mor\u001b[39;00m LocalSeleniumCrawlerStrategy(verbose\u001b[39m=\u001b[39;49mverbose)\n\u001b[1;32m     26\u001b[0m     \u001b[39mself\u001b[39m\u001b[39m.\u001b[39malways_by_pass_cache \u001b[39m=\u001b[39m always_by_pass_cache\n\u001b[1;32m     28\u001b[0m     \u001b[39m# Create the .crawl4ai folder in the user's home directory if it doesn't exist\u001b[39;00m\n",
      "File \u001b[0;32m/nfs/site/disks/xpg_sprsp_0352/agents/agent_app/.venv/lib/python3.11/site-packages/crawl4ai/crawler_strategy.py:138\u001b[0m, in \u001b[0;36mLocalSeleniumCrawlerStrategy.__init__\u001b[0;34m(self, use_cached_html, js_code, **kwargs)\u001b[0m\n\u001b[1;32m    121\u001b[0m \u001b[39mself\u001b[39m\u001b[39m.\u001b[39mhooks \u001b[39m=\u001b[39m {\n\u001b[1;32m    122\u001b[0m     \u001b[39m'\u001b[39m\u001b[39mon_driver_created\u001b[39m\u001b[39m'\u001b[39m: \u001b[39mNone\u001b[39;00m,\n\u001b[1;32m    123\u001b[0m     \u001b[39m'\u001b[39m\u001b[39mon_user_agent_updated\u001b[39m\u001b[39m'\u001b[39m: \u001b[39mNone\u001b[39;00m,\n\u001b[0;32m   (...)\u001b[0m\n\u001b[1;32m    126\u001b[0m     \u001b[39m'\u001b[39m\u001b[39mbefore_return_html\u001b[39m\u001b[39m'\u001b[39m: \u001b[39mNone\u001b[39;00m\n\u001b[1;32m    127\u001b[0m }\n\u001b[1;32m    129\u001b[0m \u001b[39m# chromedriver_autoinstaller.install()\u001b[39;00m\n\u001b[1;32m    130\u001b[0m \u001b[39m# import chromedriver_autoinstaller\u001b[39;00m\n\u001b[1;32m    131\u001b[0m \u001b[39m# crawl4ai_folder = os.path.join(Path.home(), \".crawl4ai\")\u001b[39;00m\n\u001b[0;32m   (...)\u001b[0m\n\u001b[1;32m    134\u001b[0m \u001b[39m# chromedriver_path = chromedriver_autoinstaller.utils.download_chromedriver()\u001b[39;00m\n\u001b[1;32m    135\u001b[0m \u001b[39m# self.service = Service(chromedriver_autoinstaller.install())\u001b[39;00m\n\u001b[0;32m--> 138\u001b[0m chromedriver_path \u001b[39m=\u001b[39m ChromeDriverManager()\u001b[39m.\u001b[39;49minstall()\n\u001b[1;32m    139\u001b[0m \u001b[39mself\u001b[39m\u001b[39m.\u001b[39mservice \u001b[39m=\u001b[39m Service(chromedriver_path)\n\u001b[1;32m    140\u001b[0m \u001b[39mself\u001b[39m\u001b[39m.\u001b[39mservice\u001b[39m.\u001b[39mlog_path \u001b[39m=\u001b[39m \u001b[39m\"\u001b[39m\u001b[39mNUL\u001b[39m\u001b[39m\"\u001b[39m\n",
      "File \u001b[0;32m/nfs/site/disks/xpg_sprsp_0352/agents/agent_app/.venv/lib/python3.11/site-packages/webdriver_manager/chrome.py:40\u001b[0m, in \u001b[0;36mChromeDriverManager.install\u001b[0;34m(self)\u001b[0m\n\u001b[1;32m     39\u001b[0m \u001b[39mdef\u001b[39;00m \u001b[39minstall\u001b[39m(\u001b[39mself\u001b[39m) \u001b[39m-\u001b[39m\u001b[39m>\u001b[39m \u001b[39mstr\u001b[39m:\n\u001b[0;32m---> 40\u001b[0m     driver_path \u001b[39m=\u001b[39m \u001b[39mself\u001b[39;49m\u001b[39m.\u001b[39;49m_get_driver_binary_path(\u001b[39mself\u001b[39;49m\u001b[39m.\u001b[39;49mdriver)\n\u001b[1;32m     41\u001b[0m     os\u001b[39m.\u001b[39mchmod(driver_path, \u001b[39m0o755\u001b[39m)\n\u001b[1;32m     42\u001b[0m     \u001b[39mreturn\u001b[39;00m driver_path\n",
      "File \u001b[0;32m/nfs/site/disks/xpg_sprsp_0352/agents/agent_app/.venv/lib/python3.11/site-packages/webdriver_manager/core/manager.py:40\u001b[0m, in \u001b[0;36mDriverManager._get_driver_binary_path\u001b[0;34m(self, driver)\u001b[0m\n\u001b[1;32m     37\u001b[0m     \u001b[39mreturn\u001b[39;00m binary_path\n\u001b[1;32m     39\u001b[0m os_type \u001b[39m=\u001b[39m \u001b[39mself\u001b[39m\u001b[39m.\u001b[39mget_os_type()\n\u001b[0;32m---> 40\u001b[0m file \u001b[39m=\u001b[39m \u001b[39mself\u001b[39m\u001b[39m.\u001b[39m_download_manager\u001b[39m.\u001b[39mdownload_file(driver\u001b[39m.\u001b[39;49mget_driver_download_url(os_type))\n\u001b[1;32m     41\u001b[0m binary_path \u001b[39m=\u001b[39m \u001b[39mself\u001b[39m\u001b[39m.\u001b[39m_cache_manager\u001b[39m.\u001b[39msave_file_to_cache(driver, file)\n\u001b[1;32m     42\u001b[0m \u001b[39mreturn\u001b[39;00m binary_path\n",
      "File \u001b[0;32m/nfs/site/disks/xpg_sprsp_0352/agents/agent_app/.venv/lib/python3.11/site-packages/webdriver_manager/drivers/chrome.py:32\u001b[0m, in \u001b[0;36mChromeDriver.get_driver_download_url\u001b[0;34m(self, os_type)\u001b[0m\n\u001b[1;32m     31\u001b[0m \u001b[39mdef\u001b[39;00m \u001b[39mget_driver_download_url\u001b[39m(\u001b[39mself\u001b[39m, os_type):\n\u001b[0;32m---> 32\u001b[0m     driver_version_to_download \u001b[39m=\u001b[39m \u001b[39mself\u001b[39;49m\u001b[39m.\u001b[39;49mget_driver_version_to_download()\n\u001b[1;32m     33\u001b[0m     \u001b[39m# For Mac ARM CPUs after version 106.0.5249.61 the format of OS type changed\u001b[39;00m\n\u001b[1;32m     34\u001b[0m     \u001b[39m# to more unified \"mac_arm64\". For newer versions, it'll be \"mac_arm64\"\u001b[39;00m\n\u001b[1;32m     35\u001b[0m     \u001b[39m# by default, for lower versions we replace \"mac_arm64\" to old format - \"mac64_m1\".\u001b[39;00m\n\u001b[1;32m     36\u001b[0m     \u001b[39mif\u001b[39;00m version\u001b[39m.\u001b[39mparse(driver_version_to_download) \u001b[39m<\u001b[39m version\u001b[39m.\u001b[39mparse(\u001b[39m\"\u001b[39m\u001b[39m106.0.5249.61\u001b[39m\u001b[39m\"\u001b[39m):\n",
      "File \u001b[0;32m/nfs/site/disks/xpg_sprsp_0352/agents/agent_app/.venv/lib/python3.11/site-packages/webdriver_manager/core/driver.py:48\u001b[0m, in \u001b[0;36mDriver.get_driver_version_to_download\u001b[0;34m(self)\u001b[0m\n\u001b[1;32m     45\u001b[0m \u001b[39mif\u001b[39;00m \u001b[39mself\u001b[39m\u001b[39m.\u001b[39m_driver_version_to_download:\n\u001b[1;32m     46\u001b[0m     \u001b[39mreturn\u001b[39;00m \u001b[39mself\u001b[39m\u001b[39m.\u001b[39m_driver_version_to_download\n\u001b[0;32m---> 48\u001b[0m \u001b[39mreturn\u001b[39;00m \u001b[39mself\u001b[39;49m\u001b[39m.\u001b[39;49mget_latest_release_version()\n",
      "File \u001b[0;32m/nfs/site/disks/xpg_sprsp_0352/agents/agent_app/.venv/lib/python3.11/site-packages/webdriver_manager/drivers/chrome.py:64\u001b[0m, in \u001b[0;36mChromeDriver.get_latest_release_version\u001b[0;34m(self)\u001b[0m\n\u001b[1;32m     62\u001b[0m     \u001b[39mreturn\u001b[39;00m determined_browser_version\n\u001b[1;32m     63\u001b[0m \u001b[39m# Remove the build version (the last segment) from determined_browser_version for version < 113\u001b[39;00m\n\u001b[0;32m---> 64\u001b[0m determined_browser_version \u001b[39m=\u001b[39m \u001b[39m\"\u001b[39m\u001b[39m.\u001b[39m\u001b[39m\"\u001b[39m\u001b[39m.\u001b[39mjoin(determined_browser_version\u001b[39m.\u001b[39;49msplit(\u001b[39m\"\u001b[39m\u001b[39m.\u001b[39m\u001b[39m\"\u001b[39m)[:\u001b[39m3\u001b[39m])\n\u001b[1;32m     65\u001b[0m latest_release_url \u001b[39m=\u001b[39m (\n\u001b[1;32m     66\u001b[0m     \u001b[39mself\u001b[39m\u001b[39m.\u001b[39m_latest_release_url\n\u001b[1;32m     67\u001b[0m     \u001b[39mif\u001b[39;00m (determined_browser_version \u001b[39mis\u001b[39;00m \u001b[39mNone\u001b[39;00m)\n\u001b[1;32m     68\u001b[0m     \u001b[39melse\u001b[39;00m \u001b[39mf\u001b[39m\u001b[39m\"\u001b[39m\u001b[39m{\u001b[39;00m\u001b[39mself\u001b[39m\u001b[39m.\u001b[39m_latest_release_url\u001b[39m}\u001b[39;00m\u001b[39m_\u001b[39m\u001b[39m{\u001b[39;00mdetermined_browser_version\u001b[39m}\u001b[39;00m\u001b[39m\"\u001b[39m\n\u001b[1;32m     69\u001b[0m )\n\u001b[1;32m     70\u001b[0m resp \u001b[39m=\u001b[39m \u001b[39mself\u001b[39m\u001b[39m.\u001b[39m_http_client\u001b[39m.\u001b[39mget(url\u001b[39m=\u001b[39mlatest_release_url)\n",
      "\u001b[0;31mAttributeError\u001b[0m: 'NoneType' object has no attribute 'split'"
     ]
    }
   ],
   "source": [
    "# Create an instance of WebCrawler\n",
    "crawler = WebCrawler()\n",
    "\n",
    "# Warm up the crawler (load necessary models)\n",
    "crawler.warmup()\n",
    "\n",
    "# Run the crawler on a URL\n",
    "result = crawler.run(url=\"https://www.nbcnews.com/business\")\n",
    "\n",
    "# Print the extracted content\n",
    "print(result.markdown)"
   ]
  },
  {
   "cell_type": "code",
   "execution_count": null,
   "id": "223f557f",
   "metadata": {},
   "outputs": [],
   "source": []
  }
 ],
 "metadata": {
  "kernelspec": {
   "display_name": "Python 3 (ipykernel)",
   "language": "python",
   "name": "python3"
  },
  "language_info": {
   "codemirror_mode": {
    "name": "ipython",
    "version": 3
   },
   "file_extension": ".py",
   "mimetype": "text/x-python",
   "name": "python",
   "nbconvert_exporter": "python",
   "pygments_lexer": "ipython3",
   "version": "3.11.2"
  }
 },
 "nbformat": 4,
 "nbformat_minor": 5
}
